{
 "cells": [
  {
   "cell_type": "code",
   "execution_count": null,
   "metadata": {},
   "outputs": [],
   "source": [
    "# Preprocessing Data\n",
    "\n",
    "import glob\n",
    "import string\n",
    "import re\n",
    "from nltk.corpus import stopwords \n",
    "from nltk.tokenize import word_tokenize\n",
    "from collections import Counter\n",
    "from nltk.stem import PorterStemmer\n",
    "import dill\n",
    "import numpy as np\n",
    "import math\n",
    "\n",
    "## Removing Stopwords and Stemming the words\n",
    "regex = re.compile('[^a-zA-Z ]')\n",
    "stop_words = set(stopwords.words('english'))\n",
    "pS = PorterStemmer()\n",
    "\n",
    "#list of files containing positive reviews\n",
    "posRevFile=glob.glob(\"pos/*.txt\")\n",
    "\n",
    "#list of files containing positive reviews\n",
    "negRevFile=glob.glob(\"neg/*.txt\")\n",
    "\n",
    "#Y will contain class labels (1 for positive and 0 for negative)\n",
    "Y=list()\n",
    "\n",
    "#Reading from positive files and removing stopwords and stemming words\n",
    "posList=list()\n",
    "for i in posRevFile:\n",
    "    Y.append(1)\n",
    "    file=open(i,'r')\n",
    "    wt=word_tokenize(regex.sub('',file.read().lower()))\n",
    "    wt=[pS.stem(w) for w in wt if not w in stop_words] \n",
    "    posList.append(wt)\n",
    "posSize=len(posList)\n",
    "\n",
    "#Reading from negative files and removing stopwords and stemming words\n",
    "negList=list()\n",
    "for i in negRevFile:\n",
    "    Y.append(0)\n",
    "    file=open(i,'r')\n",
    "    wt=word_tokenize(regex.sub('',file.read().lower()))\n",
    "    wt=[pS.stem(w) for w in wt if not w in stop_words] \n",
    "    negList.append(wt)\n",
    "negSize=len(negList)\n",
    "fullDataSet=posList+negList\n",
    "\n",
    "\n",
    "## Counting total number of unique words\n",
    "totalVocabCounter=Counter()\n",
    "for i in fullDataSet:\n",
    "    totalVocabCounter.update(i)\n",
    "vocabLen=len(totalVocabCounter)\n",
    "\n",
    "## Remove words that have appeared less than 3 times\n",
    "newTot=list()\n",
    "for i in totalVocabCounter:\n",
    "    if totalVocabCounter[i]>3:\n",
    "        newTot.append(i)\n",
    "totalVocabCounter=newTot\n",
    "vocabLen=len(totalVocabCounter)\n"
   ]
  },
  {
   "cell_type": "code",
   "execution_count": 7,
   "metadata": {},
   "outputs": [
    {
     "name": "stdout",
     "output_type": "stream",
     "text": [
      "Random Sample: 0.1; Accuracy: 0.8247592201080571\n",
      "Random Sample: 0.3; Accuracy: 0.8455451525218967\n",
      "Random Sample: 0.5; Accuracy: 0.8550246652572234\n",
      "Random Sample: 0.7; Accuracy: 0.8587502936340143\n",
      "Random Sample: 0.8; Accuracy: 0.8640239605355884\n",
      "Random Sample: 0.9; Accuracy: 0.8631430584918958\n"
     ]
    }
   ],
   "source": [
    "# Training and Testing\n",
    "#fullDataSet is split into training and testing data by the following proportions\n",
    "splitProportion = [0.1,0.3,0.5,0.7,0.8,0.9]\n",
    "fdSize = len(fullDataSet)\n",
    "\n",
    "#List containing average accuracy for a split over 5 runs\n",
    "Accuracy = list()\n",
    "for rs in splitProportion:\n",
    "    trainSize = int(math.floor(rs*fdSize))\n",
    "    testSize = fdSize-trainSize\n",
    "    accuracyCount=0\n",
    "    AccRun = list()\n",
    "    \n",
    "    #run 5 times for each split\n",
    "    for run in range(5):\n",
    "        #randomising the split\n",
    "        randIdx = np.random.permutation(fdSize)\n",
    "        trainIdx = np.ndarray.tolist(randIdx[0:trainSize])\n",
    "        testIdx = randIdx[trainSize:]\n",
    "        trainingLabels = []\n",
    "        trainingSet = []\n",
    "        for i in trainIdx:\n",
    "            trainingLabels.append(Y[i])\n",
    "            trainingSet.append(fullDataSet[i])\n",
    "        testSet = []\n",
    "        testLables = []\n",
    "        for i in testIdx:\n",
    "            testSet.append(fullDataSet[i])\n",
    "            testLables.append(Y[i])\n",
    "        ## Training Phase\n",
    "        #Splitting training data to positive and negative reviews\n",
    "        posTrnList=[]\n",
    "        negTrnList=[]\n",
    "        for i in range(trainSize):\n",
    "            if trainingLabels[i] == 1 :\n",
    "                posTrnList.append(trainingSet[i])\n",
    "            else :\n",
    "                negTrnList.append(trainingSet[i])\n",
    "        posVocabCounter = Counter()\n",
    "        negVocabCounter = Counter()\n",
    "        for i in posTrnList:\n",
    "            posVocabCounter.update(i)\n",
    "        for i in negTrnList:\n",
    "            negVocabCounter.update(i)\n",
    "        #Counting total number of occurences of each word in the positive and negative reviews separately\n",
    "        posDict = {}\n",
    "        negDict = {}\n",
    "        for i in totalVocabCounter:\n",
    "            wordCount = 0\n",
    "            if i in posVocabCounter:\n",
    "                wordCount = posVocabCounter[i]\n",
    "            # P(Y|X)=(# of occurences of word in +ve Class + 1)/(# of +ve class + vocabSize)\n",
    "            posDict[i] = math.log((1+wordCount)/(posSize+vocabLen))\n",
    "            wordCount = 0\n",
    "            if i in negVocabCounter:\n",
    "                wordCount = negVocabCounter[i]\n",
    "            # P(Y|X)=(# of occurences of word in -ve Class + 1)/(# of -ve class + vocabSize)\n",
    "            negDict[i] = math.log((1+wordCount)/(negSize+vocabLen))\n",
    "        \n",
    "        ## Testing Phase\n",
    "        accuracyCount=0\n",
    "        for i in range(testSize):\n",
    "            negReviewProb = 0\n",
    "            posReviewProb = 0\n",
    "            for j in testSet[i]:\n",
    "                #Exception handling for when words are absent from dictionary as they are excluded\n",
    "                #during preProcessing\n",
    "                try:\n",
    "                    negReviewProb += negDict[j]\n",
    "                    posReviewProb += posDict[j]\n",
    "                except:\n",
    "                    continue\n",
    "            #max_index(P(Y=0|X),P(Y=1|X) gives predited class label\n",
    "            if np.argmax([negReviewProb, posReviewProb]) == testLables[i]:\n",
    "                accuracyCount += 1\n",
    "        AccRun.append(accuracyCount/testSize)\n",
    "    print(\"Random Sample: \"+str(rs)+\"; Accuracy: \"+str(sum(AccRun)/5))\n",
    "    Accuracy.append(sum(AccRun)/5)"
   ]
  },
  {
   "cell_type": "code",
   "execution_count": 8,
   "metadata": {},
   "outputs": [
    {
     "data": {
      "text/plain": [
       "Text(0.5,0,'TrainingSetSize')"
      ]
     },
     "execution_count": 8,
     "metadata": {},
     "output_type": "execute_result"
    },
    {
     "data": {
      "image/png": "[encoded data removed]",
      "text/plain": [
       "<Figure size 432x288 with 1 Axes>"
      ]
     },
     "metadata": {
      "needs_background": "light"
     },
     "output_type": "display_data"
    }
   ],
   "source": [
    "from matplotlib import pyplot\n",
    "pyplot.plot(splitProportion,Accuracy,marker='o')\n",
    "pyplot.ylabel('Accuracy')\n",
    "pyplot.xlabel('TrainingSetSize')"
   ]
  }
 ],
 "metadata": {
  "kernelspec": {
   "display_name": "Python 3",
   "language": "python",
   "name": "python3"
  },
  "language_info": {
   "codemirror_mode": {
    "name": "ipython",
    "version": 3
   },
   "file_extension": ".py",
   "mimetype": "text/x-python",
   "name": "python",
   "nbconvert_exporter": "python",
   "pygments_lexer": "ipython3",
   "version": "3.6.6"
  }
 },
 "nbformat": 4,
 "nbformat_minor": 2
}
